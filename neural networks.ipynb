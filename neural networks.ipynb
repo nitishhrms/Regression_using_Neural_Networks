{
 "cells": [
  {
   "cell_type": "code",
   "execution_count": 1,
   "metadata": {},
   "outputs": [
    {
     "name": "stderr",
     "output_type": "stream",
     "text": [
      "Using TensorFlow backend.\n"
     ]
    }
   ],
   "source": [
    "from keras.datasets import boston_housing"
   ]
  },
  {
   "cell_type": "code",
   "execution_count": 2,
   "metadata": {},
   "outputs": [],
   "source": [
    "Train,Test=boston_housing.load_data()"
   ]
  },
  {
   "cell_type": "code",
   "execution_count": 3,
   "metadata": {},
   "outputs": [
    {
     "name": "stdout",
     "output_type": "stream",
     "text": [
      "((404, 13), (404,))\n",
      "((102, 13), (102,))\n"
     ]
    }
   ],
   "source": [
    "XT,YT=Train\n",
    "print(XT.shape,YT.shape)\n",
    "Xt,Yt=Test\n",
    "print(Xt.shape,Yt.shape)"
   ]
  },
  {
   "cell_type": "code",
   "execution_count": 4,
   "metadata": {},
   "outputs": [],
   "source": [
    "mean=XT.mean(axis=0)\n",
    "std=XT.std(axis=0)\n",
    "XT=(XT-mean)/std\n",
    "Xt=(Xt-mean)/std"
   ]
  },
  {
   "cell_type": "code",
   "execution_count": 5,
   "metadata": {},
   "outputs": [],
   "source": [
    "#sequential api\n",
    "#functional api\n",
    "from keras.models import Sequential\n",
    "from keras.layers import Dense\n",
    "from keras import backend as k\n",
    "import numpy as np\n",
    "def r2_score(y_true,y_pred):\n",
    "    #y_true=k.array(y_true)\n",
    "    #y_pred=k.array(y_pred)\n",
    "    num=k.sum((y_true-y_pred)**2)\n",
    "    denom=k.sum((y_true-k.mean(y_true))**2)\n",
    "    return 1-num/denom\n",
    "def getModel():\n",
    "    model=Sequential() \n",
    "    # in first it is mandatory to provide the input shape and after that it will predict the no of layers automatically\n",
    "    model.add(Dense(64,activation='relu',input_shape=(13,)))\n",
    "    model.add(Dense(32,activation='relu'))\n",
    "    #this below code represents the output\n",
    "    model.add(Dense(1))\n",
    "    model.compile(optimizer='adam',loss='mse',metrics=[r2_score])\n",
    "    return model"
   ]
  },
  {
   "cell_type": "code",
   "execution_count": 6,
   "metadata": {},
   "outputs": [
    {
     "name": "stdout",
     "output_type": "stream",
     "text": [
      "_________________________________________________________________\n",
      "Layer (type)                 Output Shape              Param #   \n",
      "=================================================================\n",
      "dense_1 (Dense)              (None, 64)                896       \n",
      "_________________________________________________________________\n",
      "dense_2 (Dense)              (None, 32)                2080      \n",
      "_________________________________________________________________\n",
      "dense_3 (Dense)              (None, 1)                 33        \n",
      "=================================================================\n",
      "Total params: 3,009\n",
      "Trainable params: 3,009\n",
      "Non-trainable params: 0\n",
      "_________________________________________________________________\n",
      "Train on 404 samples, validate on 102 samples\n",
      "Epoch 1/30\n",
      "404/404 [==============================] - 0s 490us/step - loss: 564.5408 - r2_score: -6.2865 - val_loss: 573.2254 - val_r2_score: -6.4719\n",
      "Epoch 2/30\n",
      "404/404 [==============================] - 0s 35us/step - loss: 525.7559 - r2_score: -5.7589 - val_loss: 529.9738 - val_r2_score: -5.8988\n",
      "Epoch 3/30\n",
      "404/404 [==============================] - 0s 48us/step - loss: 478.6460 - r2_score: -5.3927 - val_loss: 475.1387 - val_r2_score: -5.1753\n",
      "Epoch 4/30\n",
      "404/404 [==============================] - 0s 52us/step - loss: 418.2789 - r2_score: -4.3769 - val_loss: 402.9580 - val_r2_score: -4.2264\n",
      "Epoch 5/30\n",
      "404/404 [==============================] - 0s 57us/step - loss: 340.8505 - r2_score: -3.5825 - val_loss: 312.3531 - val_r2_score: -3.0395\n",
      "Epoch 6/30\n",
      "404/404 [==============================] - 0s 54us/step - loss: 249.6495 - r2_score: -2.2362 - val_loss: 214.7996 - val_r2_score: -1.7681\n",
      "Epoch 7/30\n",
      "404/404 [==============================] - 0s 50us/step - loss: 161.8462 - r2_score: -0.9610 - val_loss: 134.3896 - val_r2_score: -0.7318\n",
      "Epoch 8/30\n",
      "404/404 [==============================] - 0s 50us/step - loss: 101.7289 - r2_score: -0.3442 - val_loss: 89.4893 - val_r2_score: -0.1660\n",
      "Epoch 9/30\n",
      "404/404 [==============================] - 0s 61us/step - loss: 70.3934 - r2_score: 0.1170 - val_loss: 69.9563 - val_r2_score: 0.0807\n",
      "Epoch 10/30\n",
      "404/404 [==============================] - 0s 48us/step - loss: 55.9369 - r2_score: 0.3214 - val_loss: 56.5963 - val_r2_score: 0.2566\n",
      "Epoch 11/30\n",
      "404/404 [==============================] - 0s 73us/step - loss: 44.5002 - r2_score: 0.4142 - val_loss: 47.0759 - val_r2_score: 0.3853\n",
      "Epoch 12/30\n",
      "404/404 [==============================] - 0s 66us/step - loss: 36.4265 - r2_score: 0.5223 - val_loss: 40.6667 - val_r2_score: 0.4714\n",
      "Epoch 13/30\n",
      "404/404 [==============================] - 0s 56us/step - loss: 31.1024 - r2_score: 0.6229 - val_loss: 36.2752 - val_r2_score: 0.5304\n",
      "Epoch 14/30\n",
      "404/404 [==============================] - 0s 60us/step - loss: 27.6593 - r2_score: 0.6494 - val_loss: 33.3769 - val_r2_score: 0.5701\n",
      "Epoch 15/30\n",
      "404/404 [==============================] - 0s 61us/step - loss: 25.2784 - r2_score: 0.6626 - val_loss: 31.4244 - val_r2_score: 0.5972\n",
      "Epoch 16/30\n",
      "404/404 [==============================] - 0s 55us/step - loss: 23.4584 - r2_score: 0.7202 - val_loss: 29.9441 - val_r2_score: 0.6174\n",
      "Epoch 17/30\n",
      "404/404 [==============================] - 0s 53us/step - loss: 22.1545 - r2_score: 0.7219 - val_loss: 28.8021 - val_r2_score: 0.6337\n",
      "Epoch 18/30\n",
      "404/404 [==============================] - 0s 73us/step - loss: 20.9340 - r2_score: 0.6894 - val_loss: 27.8761 - val_r2_score: 0.6465\n",
      "Epoch 19/30\n",
      "404/404 [==============================] - 0s 61us/step - loss: 19.9758 - r2_score: 0.7375 - val_loss: 26.9575 - val_r2_score: 0.6593\n",
      "Epoch 20/30\n",
      "404/404 [==============================] - 0s 50us/step - loss: 19.2344 - r2_score: 0.7567 - val_loss: 26.5096 - val_r2_score: 0.6660\n",
      "Epoch 21/30\n",
      "404/404 [==============================] - 0s 78us/step - loss: 18.3973 - r2_score: 0.7773 - val_loss: 25.8901 - val_r2_score: 0.6747\n",
      "Epoch 22/30\n",
      "404/404 [==============================] - 0s 55us/step - loss: 17.7508 - r2_score: 0.7800 - val_loss: 25.3447 - val_r2_score: 0.6822\n",
      "Epoch 23/30\n",
      "404/404 [==============================] - 0s 51us/step - loss: 17.0648 - r2_score: 0.7620 - val_loss: 25.1178 - val_r2_score: 0.6858\n",
      "Epoch 24/30\n",
      "404/404 [==============================] - 0s 69us/step - loss: 16.4428 - r2_score: 0.7942 - val_loss: 24.4456 - val_r2_score: 0.6948\n",
      "Epoch 25/30\n",
      "404/404 [==============================] - 0s 52us/step - loss: 15.8889 - r2_score: 0.8048 - val_loss: 24.2434 - val_r2_score: 0.6976\n",
      "Epoch 26/30\n",
      "404/404 [==============================] - 0s 45us/step - loss: 15.4126 - r2_score: 0.8060 - val_loss: 23.7640 - val_r2_score: 0.7041\n",
      "Epoch 27/30\n",
      "404/404 [==============================] - 0s 50us/step - loss: 14.9202 - r2_score: 0.8045 - val_loss: 23.6060 - val_r2_score: 0.7063\n",
      "Epoch 28/30\n",
      "404/404 [==============================] - 0s 55us/step - loss: 14.5202 - r2_score: 0.8176 - val_loss: 24.1712 - val_r2_score: 0.6992\n",
      "Epoch 29/30\n",
      "404/404 [==============================] - 0s 49us/step - loss: 14.0956 - r2_score: 0.8219 - val_loss: 23.5876 - val_r2_score: 0.7071\n",
      "Epoch 30/30\n",
      "404/404 [==============================] - 0s 45us/step - loss: 13.7152 - r2_score: 0.8236 - val_loss: 23.0288 - val_r2_score: 0.7142\n"
     ]
    }
   ],
   "source": [
    "model=getModel()\n",
    "model.summary()\n",
    "hist=model.fit(XT,YT,verbose=1,epochs=30,validation_data=(Xt,Yt))"
   ]
  },
  {
   "cell_type": "code",
   "execution_count": 7,
   "metadata": {},
   "outputs": [],
   "source": [
    "val_loss=hist.history['val_loss']\n",
    "train_loss=hist.history['loss']"
   ]
  },
  {
   "cell_type": "code",
   "execution_count": 8,
   "metadata": {},
   "outputs": [
    {
     "data": {
      "text/plain": [
       "<Figure size 640x480 with 1 Axes>"
      ]
     },
     "metadata": {},
     "output_type": "display_data"
    }
   ],
   "source": [
    "import matplotlib.pyplot as plt\n",
    "plt.plot(val_loss)\n",
    "plt.plot(train_loss)\n",
    "plt.show()"
   ]
  },
  {
   "cell_type": "code",
   "execution_count": 9,
   "metadata": {},
   "outputs": [],
   "source": [
    "r2_score_train = hist.history ['r2_score']\n",
    "r2_score_val = hist.history ['val_r2_score']"
   ]
  },
  {
   "cell_type": "code",
   "execution_count": 10,
   "metadata": {},
   "outputs": [
    {
     "data": {
      "image/png": "[encoded data removed]",
      "text/plain": [
       "<Figure size 432x288 with 1 Axes>"
      ]
     },
     "metadata": {
      "needs_background": "light"
     },
     "output_type": "display_data"
    }
   ],
   "source": [
    "plt.plot(r2_score_train,label=\"Train Score\")\n",
    "plt.plot(r2_score_val,label=\"Val Score\")\n",
    "plt.legend()\n",
    "plt.title(\"R2 score\")\n",
    "#one epoch is one iteration over dataset\n",
    "plt.xlabel(\"Epochs\")\n",
    "plt.ylabel(\"R2 score\")\n",
    "plt.show()"
   ]
  },
  {
   "cell_type": "code",
   "execution_count": 11,
   "metadata": {},
   "outputs": [
    {
     "data": {
      "text/plain": [
       "array([[ 9.41744 ],\n",
       "       [17.218414],\n",
       "       [20.575535],\n",
       "       [32.92956 ],\n",
       "       [26.098202],\n",
       "       [16.279703],\n",
       "       [25.537415],\n",
       "       [21.977257],\n",
       "       [19.347546],\n",
       "       [19.88855 ],\n",
       "       [17.347736],\n",
       "       [17.250925],\n",
       "       [18.170576],\n",
       "       [41.971966],\n",
       "       [16.388958],\n",
       "       [20.206991],\n",
       "       [26.305817],\n",
       "       [21.66705 ],\n",
       "       [17.426674],\n",
       "       [28.519043],\n",
       "       [11.924742],\n",
       "       [14.074302],\n",
       "       [19.42487 ],\n",
       "       [12.518492],\n",
       "       [24.827282],\n",
       "       [20.800505],\n",
       "       [30.880835],\n",
       "       [30.156185],\n",
       "       [12.077208],\n",
       "       [22.291386],\n",
       "       [18.707027],\n",
       "       [13.819953],\n",
       "       [31.566328],\n",
       "       [24.697067],\n",
       "       [14.480701],\n",
       "       [ 8.565669],\n",
       "       [14.023103],\n",
       "       [14.977058],\n",
       "       [21.375526],\n",
       "       [27.206314],\n",
       "       [29.88304 ],\n",
       "       [29.468739],\n",
       "       [15.779575],\n",
       "       [38.3518  ],\n",
       "       [32.65414 ],\n",
       "       [23.825314],\n",
       "       [25.359076],\n",
       "       [13.998823],\n",
       "       [21.722534],\n",
       "       [21.866838],\n",
       "       [33.64701 ],\n",
       "       [18.886919],\n",
       "       [13.75489 ],\n",
       "       [14.24407 ],\n",
       "       [32.526665],\n",
       "       [29.190655],\n",
       "       [13.392274],\n",
       "       [47.500683],\n",
       "       [32.472008],\n",
       "       [24.313957],\n",
       "       [21.456793],\n",
       "       [17.964945],\n",
       "       [13.502643],\n",
       "       [16.883846],\n",
       "       [23.909256],\n",
       "       [25.450104],\n",
       "       [14.947865],\n",
       "       [24.130747],\n",
       "       [17.080126],\n",
       "       [ 8.182419],\n",
       "       [29.350063],\n",
       "       [29.84308 ],\n",
       "       [22.286959],\n",
       "       [17.733025],\n",
       "       [25.046722],\n",
       "       [17.454704],\n",
       "       [20.95238 ],\n",
       "       [22.939976],\n",
       "       [35.488594],\n",
       "       [11.704088],\n",
       "       [18.736269],\n",
       "       [39.555256],\n",
       "       [13.592354],\n",
       "       [15.511816],\n",
       "       [16.94001 ],\n",
       "       [16.126856],\n",
       "       [17.054531],\n",
       "       [23.889969],\n",
       "       [22.85239 ],\n",
       "       [26.461536],\n",
       "       [17.2757  ],\n",
       "       [23.229567],\n",
       "       [24.482075],\n",
       "       [37.82795 ],\n",
       "       [36.068954],\n",
       "       [19.380857],\n",
       "       [37.655205],\n",
       "       [45.356552],\n",
       "       [24.727407],\n",
       "       [46.527115],\n",
       "       [32.711876],\n",
       "       [18.064205]], dtype=float32)"
      ]
     },
     "execution_count": 11,
     "metadata": {},
     "output_type": "execute_result"
    }
   ],
   "source": [
    "model.predict(Xt)"
   ]
  }
 ],
 "metadata": {
  "kernelspec": {
   "display_name": "Python 3",
   "language": "python",
   "name": "python3"
  },
  "language_info": {
   "codemirror_mode": {
    "name": "ipython",
    "version": 2
   },
   "file_extension": ".py",
   "mimetype": "text/x-python",
   "name": "python",
   "nbconvert_exporter": "python",
   "pygments_lexer": "ipython2",
   "version": "2.7.12"
  }
 },
 "nbformat": 4,
 "nbformat_minor": 2
}
